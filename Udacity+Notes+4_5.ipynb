{
 "cells": [
  {
   "cell_type": "markdown",
   "metadata": {},
   "source": [
    "# Udacity Lesson 4"
   ]
  },
  {
   "cell_type": "raw",
   "metadata": {},
   "source": [
    "Types of centrality:\n",
    "- closeness centrality: \n",
    "Un nodo dado es central si pasa por caminos cortos en una red.\n",
    "- betweenness centrality:\n",
    "Un nodo es central si la mayoría de de los caminos cortos entre 2 nodos arbitrariamente escogidos pasa por medio de el nodo.\n",
    "- Node centrality:\n",
    "Si tiene gran cantidad de aristas.\n",
    "\n",
    "Degree centrality (node centrality): \n",
    "Nodo con la mayor cantidad de aristas\n",
    "\n",
    "\n",
    "Materiales de Udacity:\n",
    "https://www.udacity.com/wiki/cs215/unit3code\n",
    "\n",
    "https://www.udacity.com/wiki/cs215/unit5code"
   ]
  },
  {
   "cell_type": "markdown",
   "metadata": {},
   "source": [
    "## Computing Statistics"
   ]
  },
  {
   "cell_type": "raw",
   "metadata": {},
   "source": [
    "- Un numero que resuma la lista\n",
    "- Cuantos números hay\n",
    "- El más largo\n",
    "- Total de la suma\n",
    "..."
   ]
  },
  {
   "cell_type": "raw",
   "metadata": {},
   "source": [
    "- Máximo\n",
    "- Mínimo \n",
    "- Punto medio: promedio del máximo y el mínimo\n",
    "- MEdia: Promedio de los valores \n",
    "- Moda: Valor más repetido\n",
    "- Mediana: el término que se encuentra en la mitad del arreglo.\n"
   ]
  },
  {
   "cell_type": "code",
   "execution_count": 3,
   "metadata": {
    "collapsed": false
   },
   "outputs": [
    {
     "name": "stdout",
     "output_type": "stream",
     "text": [
      "1\n",
      "6\n",
      "3.5\n",
      "4\n"
     ]
    }
   ],
   "source": [
    "# Arreglo ordenado\n",
    "A = [1, 2, 3, 4, 5, 6]\n",
    "\n",
    "minimum = A[0]\n",
    "maximum = A[len(A) - 1]\n",
    "midpoint = (A[0] + A[len(A) - 1])/2.0\n",
    "median = A[int(len(A) / 2)]\n",
    "\n",
    "print (minimum)\n",
    "print (maximum)\n",
    "print (midpoint)\n",
    "print (median)"
   ]
  },
  {
   "cell_type": "markdown",
   "metadata": {},
   "source": [
    "\n",
    "# Order statistics"
   ]
  },
  {
   "cell_type": "code",
   "execution_count": null,
   "metadata": {
    "collapsed": true
   },
   "outputs": [],
   "source": [
    "#Naive algorithm for finding max of a list for tuples:\n",
    "from sys import stdin\n",
    "\n",
    "dic = {}\n",
    "for line in stdin.readlines():\n",
    "    name, gender, age = line.split(',')\n",
    "    if name not in dic and gender == 'F':\n",
    "        dic[name] = 1\n",
    "    elif gender == 'F':\n",
    "        dic[name] += 1\n",
    "\n",
    "\n",
    "maxname = ''\n",
    "\n",
    "names = []\n",
    "for x in dic:\n",
    "    names.append((x, dic[x]))\n",
    "\n",
    "z = sorted(names, key=lambda y:y[1])\n",
    "\n",
    "for x in z:\n",
    "    print x\n"
   ]
  },
  {
   "cell_type": "code",
   "execution_count": 5,
   "metadata": {
    "collapsed": false
   },
   "outputs": [
    {
     "name": "stdout",
     "output_type": "stream",
     "text": [
      "2\n"
     ]
    }
   ],
   "source": [
    "#Rank of an array\n",
    "L = A\n",
    "def rank(L, v):\n",
    "    pos = 0\n",
    "    for val in L:\n",
    "        if val < v: pos +=1\n",
    "    return pos\n",
    "print (rank(L, 3))"
   ]
  },
  {
   "cell_type": "code",
   "execution_count": 9,
   "metadata": {
    "collapsed": false
   },
   "outputs": [
    {
     "name": "stdout",
     "output_type": "stream",
     "text": [
      "[1, 2, 3, 4, 5, 6, 36]\n"
     ]
    }
   ],
   "source": [
    "def partition(L, v):\n",
    "    smaller = []\n",
    "    bigger = []\n",
    "    for val in L:\n",
    "        if val < v: smaller += [val]\n",
    "        if val > v: bigger += [val]\n",
    "    return smaller + [v] + bigger\n",
    "print (partition(L, 3))"
   ]
  },
  {
   "cell_type": "code",
   "execution_count": null,
   "metadata": {
    "collapsed": true
   },
   "outputs": [],
   "source": [
    "def centrality(G, v):\n",
    "    distance_from_start = {}\n",
    "    distance_from_start[v] = 0\n",
    "    \n",
    "    open_list = [v]\n",
    "    \n",
    "    while len(open_list) > 0:\n",
    "        current = open_list.pop(0)\n",
    "        for neighbour in G[current].keys():\n",
    "            if neighbour not in distance_from_start:\n",
    "                distance_from_start[neighbour] = distance_from_start[current] + 1\n",
    "                open_list.append(neighbour)\n",
    "    return (float(sum(distance_from_start.values()))/len(distance_from_start))\n",
    "    "
   ]
  }
 ],
 "metadata": {
  "kernelspec": {
   "display_name": "Python 3",
   "language": "python",
   "name": "python3"
  },
  "language_info": {
   "codemirror_mode": {
    "name": "ipython",
    "version": 3
   },
   "file_extension": ".py",
   "mimetype": "text/x-python",
   "name": "python",
   "nbconvert_exporter": "python",
   "pygments_lexer": "ipython3",
   "version": "3.5.2"
  }
 },
 "nbformat": 4,
 "nbformat_minor": 1
}
